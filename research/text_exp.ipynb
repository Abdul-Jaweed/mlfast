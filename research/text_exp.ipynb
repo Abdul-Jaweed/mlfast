{
 "cells": [
  {
   "cell_type": "code",
   "execution_count": 12,
   "metadata": {},
   "outputs": [],
   "source": [
    "import pandas as pd"
   ]
  },
  {
   "cell_type": "code",
   "execution_count": 13,
   "metadata": {},
   "outputs": [],
   "source": [
    "df = pd.read_csv(\"review.csv\")"
   ]
  },
  {
   "cell_type": "code",
   "execution_count": 14,
   "metadata": {},
   "outputs": [
    {
     "data": {
      "text/html": [
       "<div>\n",
       "<style scoped>\n",
       "    .dataframe tbody tr th:only-of-type {\n",
       "        vertical-align: middle;\n",
       "    }\n",
       "\n",
       "    .dataframe tbody tr th {\n",
       "        vertical-align: top;\n",
       "    }\n",
       "\n",
       "    .dataframe thead th {\n",
       "        text-align: right;\n",
       "    }\n",
       "</style>\n",
       "<table border=\"1\" class=\"dataframe\">\n",
       "  <thead>\n",
       "    <tr style=\"text-align: right;\">\n",
       "      <th></th>\n",
       "      <th>review</th>\n",
       "      <th>sentiment</th>\n",
       "    </tr>\n",
       "  </thead>\n",
       "  <tbody>\n",
       "    <tr>\n",
       "      <th>0</th>\n",
       "      <td>One of the other reviewers has mentioned that ...</td>\n",
       "      <td>positive</td>\n",
       "    </tr>\n",
       "    <tr>\n",
       "      <th>1</th>\n",
       "      <td>A wonderful little production. &lt;br /&gt;&lt;br /&gt;The...</td>\n",
       "      <td>positive</td>\n",
       "    </tr>\n",
       "    <tr>\n",
       "      <th>2</th>\n",
       "      <td>I thought this was a wonderful way to spend ti...</td>\n",
       "      <td>positive</td>\n",
       "    </tr>\n",
       "    <tr>\n",
       "      <th>3</th>\n",
       "      <td>Basically there's a family where a little boy ...</td>\n",
       "      <td>negative</td>\n",
       "    </tr>\n",
       "    <tr>\n",
       "      <th>4</th>\n",
       "      <td>Petter Mattei's \"Love in the Time of Money\" is...</td>\n",
       "      <td>positive</td>\n",
       "    </tr>\n",
       "  </tbody>\n",
       "</table>\n",
       "</div>"
      ],
      "text/plain": [
       "                                              review sentiment\n",
       "0  One of the other reviewers has mentioned that ...  positive\n",
       "1  A wonderful little production. <br /><br />The...  positive\n",
       "2  I thought this was a wonderful way to spend ti...  positive\n",
       "3  Basically there's a family where a little boy ...  negative\n",
       "4  Petter Mattei's \"Love in the Time of Money\" is...  positive"
      ]
     },
     "execution_count": 14,
     "metadata": {},
     "output_type": "execute_result"
    }
   ],
   "source": [
    "df.head()"
   ]
  },
  {
   "cell_type": "code",
   "execution_count": 15,
   "metadata": {},
   "outputs": [
    {
     "data": {
      "text/plain": [
       "(50, 2)"
      ]
     },
     "execution_count": 15,
     "metadata": {},
     "output_type": "execute_result"
    }
   ],
   "source": [
    "df.shape"
   ]
  },
  {
   "cell_type": "code",
   "execution_count": 16,
   "metadata": {},
   "outputs": [],
   "source": [
    "from mlfast import Text_preprocessing"
   ]
  },
  {
   "cell_type": "code",
   "execution_count": 17,
   "metadata": {},
   "outputs": [
    {
     "data": {
      "text/plain": [
       "0     One reviewer mentioned watching 1 Oz episode y...\n",
       "1     wonderful little production filming technique ...\n",
       "2     thought wonderful way spend time hot summer we...\n",
       "3     Basically there family little boy Jake think t...\n",
       "4     Petter Matteis Love Time Money visually stunni...\n",
       "5     Probably alltime favorite movie story selfless...\n",
       "6     sure would like see resurrection dated Seahunt...\n",
       "7     show amazing fresh innovative idea 70 first ai...\n",
       "8     Encouraged positive comment film looking forwa...\n",
       "9     like original gut wrenching laughter like movi...\n",
       "10    Phil Alien one quirky film humour based around...\n",
       "11    saw movie 12 came recall scariest scene big bi...\n",
       "12    im big fan Bolls work many enjoyed movie Posta...\n",
       "13    cast played ShakespeareShakespeare lostI appre...\n",
       "14    fantastic movie three prisoner become famous O...\n",
       "15    Kind drawn erotic scene realize one amateurish...\n",
       "16    film simply remade one bad film fails capture ...\n",
       "17    movie made one top 10 awful movie Horrible was...\n",
       "18    remember filmit first film watched cinema pict...\n",
       "19    awful film must real stinker nominated Golden ...\n",
       "20    success Die Hard sequel surprise really 1990s ...\n",
       "21    terrible misfortune view bmovie entiretyAll sa...\n",
       "22    absolutely stunning movie 25 hr kill watch won...\n",
       "23    First let get thing straight anime fan always ...\n",
       "24    worst movie saw WorldFest also received least ...\n",
       "25    Karen Carpenter Story show little singer Karen...\n",
       "26    Cell exotic masterpiece dizzying trip vast min...\n",
       "27    film tried many thing stinging political satir...\n",
       "28    movie frustrating Everything seemed energetic ...\n",
       "29    War movie Hollywood genre done redone many tim...\n",
       "30    Taut organically gripping Edward Dmytryks Cros...\n",
       "31    Ardh Satya one finest film ever made Indian Ci...\n",
       "32    first exposure Templarios good one excited fin...\n",
       "33    One significant quote entire film pronounced h...\n",
       "34    watched film really expecting much got pack 5 ...\n",
       "35    bought film Blockbuster 300 sounded interestin...\n",
       "36    plot death little child Hopper one investigate...\n",
       "37    Ever watched movie lost plot Well didnt even r...\n",
       "38    Okay series kind take route go Week week David...\n",
       "39    sitting pile dung husband wondered whether act...\n",
       "40    clichs movie type substance plot went nowhere ...\n",
       "41    movie based book Many Splendored Thing Han Suy...\n",
       "42    film seen one Rage got one worst yet direction...\n",
       "43    heard good thing States Grace came open mind t...\n",
       "44    movie struck home 29 remember 80 father workin...\n",
       "45    disclaimer Ive seen movie 56 time last 15 year...\n",
       "46    Protocol implausible movie whose saving grace ...\n",
       "47    film could classified Drama idea John Voight M...\n",
       "48    Preston Sturgis POWER GLORY unseen public near...\n",
       "49    Average surprisingly tame Fulci giallo mean st...\n",
       "Name: review, dtype: object"
      ]
     },
     "execution_count": 17,
     "metadata": {},
     "output_type": "execute_result"
    }
   ],
   "source": [
    "df['review'].apply(Text_preprocessing,\n",
    "                  stem=False,\n",
    "                  lemmatize=True,\n",
    "                  remove_html=True,\n",
    "                  remove_emoji=True,\n",
    "                  remove_special_chars=True,\n",
    "                  remove_extra_spaces=True)"
   ]
  },
  {
   "cell_type": "code",
   "execution_count": null,
   "metadata": {},
   "outputs": [],
   "source": []
  }
 ],
 "metadata": {
  "kernelspec": {
   "display_name": "Python 3",
   "language": "python",
   "name": "python3"
  },
  "language_info": {
   "codemirror_mode": {
    "name": "ipython",
    "version": 3
   },
   "file_extension": ".py",
   "mimetype": "text/x-python",
   "name": "python",
   "nbconvert_exporter": "python",
   "pygments_lexer": "ipython3",
   "version": "3.8.16"
  },
  "orig_nbformat": 4
 },
 "nbformat": 4,
 "nbformat_minor": 2
}
